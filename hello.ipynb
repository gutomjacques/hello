{
 "cells": [
  {
   "cell_type": "code",
   "execution_count": 27,
   "id": "7a78bd6a-038e-4d43-9e84-7e956222aeee",
   "metadata": {},
   "outputs": [
    {
     "data": {
      "text/plain": [
       "'\\nPrograma hello\\nDescrição: imprima na tela a frase \"hello, world!\".\\nAutor: Augusto Jacques\\nData: 25/02/2025\\nVersão: 0.0.4\\nNesta versão:\\n1. O usuário poderá entrar com seu nome para ser cumprimentado pelo programa.\\n2. Utilizamos f-strings para escrever um código mais limpo.\\n'"
      ]
     },
     "execution_count": 27,
     "metadata": {},
     "output_type": "execute_result"
    }
   ],
   "source": [
    "\"\"\"\n",
    "Programa hello\n",
    "Descrição: imprima na tela a frase \"hello, world!\".\n",
    "Autor: Augusto Jacques\n",
    "Data: 25/02/2025\n",
    "Versão: 0.0.4\n",
    "Nesta versão:\n",
    "1. O usuário poderá entrar com seu nome para ser cumprimentado pelo programa.\n",
    "2. Utilizamos f-strings para escrever um código mais limpo.\n",
    "\"\"\""
   ]
  },
  {
   "cell_type": "code",
   "execution_count": 28,
   "id": "b3c9ac3c-5c30-4a58-9730-f28e9b1653b2",
   "metadata": {},
   "outputs": [],
   "source": [
    "# Alocação de memória\n",
    "\n",
    "nome = \"\"\n",
    "frase = \"\""
   ]
  },
  {
   "cell_type": "code",
   "execution_count": 31,
   "id": "ca611664-844e-47da-83b2-6352b72a3248",
   "metadata": {},
   "outputs": [
    {
     "name": "stdin",
     "output_type": "stream",
     "text": [
      "\n",
      "Qual o seu nome? Augusto\n"
     ]
    }
   ],
   "source": [
    "# Entrada de dados\n",
    "\n",
    "nome = str(input(\"\\nQual o seu nome?\"))"
   ]
  },
  {
   "cell_type": "code",
   "execution_count": 32,
   "id": "15fbcb13-f831-44e8-9b8b-06ebfdda6f84",
   "metadata": {},
   "outputs": [],
   "source": [
    "# Processamento de dados\n",
    "\n",
    "frase = f\"Hello, {nome}!\""
   ]
  },
  {
   "cell_type": "code",
   "execution_count": 33,
   "id": "a8f29097-246e-416d-a569-381c0acd2d70",
   "metadata": {},
   "outputs": [
    {
     "name": "stdout",
     "output_type": "stream",
     "text": [
      "Hello, Augusto!\n"
     ]
    }
   ],
   "source": [
    "# Saída de dados\n",
    "\n",
    "print(frase)"
   ]
  },
  {
   "cell_type": "code",
   "execution_count": null,
   "id": "2755ff8c-c59e-4cd0-bb20-daba8c755ea4",
   "metadata": {},
   "outputs": [],
   "source": []
  }
 ],
 "metadata": {
  "kernelspec": {
   "display_name": "Python 3 (ipykernel)",
   "language": "python",
   "name": "python3"
  },
  "language_info": {
   "codemirror_mode": {
    "name": "ipython",
    "version": 3
   },
   "file_extension": ".py",
   "mimetype": "text/x-python",
   "name": "python",
   "nbconvert_exporter": "python",
   "pygments_lexer": "ipython3",
   "version": "3.12.7"
  }
 },
 "nbformat": 4,
 "nbformat_minor": 5
}
